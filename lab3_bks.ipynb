{
  "nbformat": 4,
  "nbformat_minor": 0,
  "metadata": {
    "colab": {
      "name": "lab3_bks.ipynb",
      "provenance": [],
      "authorship_tag": "ABX9TyMM7p1TjwD/xdp3GlqNryEh",
      "include_colab_link": true
    },
    "kernelspec": {
      "name": "python3",
      "display_name": "Python 3"
    },
    "language_info": {
      "name": "python"
    }
  },
  "cells": [
    {
      "cell_type": "markdown",
      "metadata": {
        "id": "view-in-github",
        "colab_type": "text"
      },
      "source": [
        "<a href=\"https://colab.research.google.com/github/Viktory4121/BKS_py/blob/main/lab3_bks.ipynb\" target=\"_parent\"><img src=\"https://colab.research.google.com/assets/colab-badge.svg\" alt=\"Open In Colab\"/></a>"
      ]
    },
    {
      "cell_type": "code",
      "execution_count": 241,
      "metadata": {
        "id": "-degt7K8UrqB"
      },
      "outputs": [],
      "source": [
        "import pandas as pd\n",
        "import numpy as np"
      ]
    },
    {
      "cell_type": "code",
      "source": [
        "#входные параметры\n",
        "\n",
        "#входное сообщение на английском языке:\n",
        "#переводит только буквы, оставляя прежними символы\n",
        "#не сохраняет регистр\n",
        "message = \"Input message.\"\n",
        "\n",
        "#два простых числа\n",
        "P = 3\n",
        "Q = 11\n",
        "\n",
        "#открытый ключ, принадлежащий диапазону от 1 до \n",
        "print(\"Открытый ключ должен быть в диапазоне от 1 до\", (P - 1) * (Q - 1))\n",
        "Kb = 7"
      ],
      "metadata": {
        "colab": {
          "base_uri": "https://localhost:8080/"
        },
        "id": "CV7Xo-m6WC2B",
        "outputId": "7bbedc9e-a408-410a-ceae-ebbed21ea7da"
      },
      "execution_count": 242,
      "outputs": [
        {
          "output_type": "stream",
          "name": "stdout",
          "text": [
            "Открытый ключ должен быть в диапазоне от 1 до 20\n"
          ]
        }
      ]
    },
    {
      "cell_type": "code",
      "source": [
        "def code_letter(message, code = 0):\n",
        "  alphabet = '*,a,b,c,d,e,f,g,h,i,j,k,l,m,n,o,p,q,r,s,t,u,v,w,x,y,z'.split(',')\n",
        "  code_message = []\n",
        "  mess = []\n",
        "    \n",
        "  #разделение строки символов на массив\n",
        "  if type(message) == str:\n",
        "    for i in message:\n",
        "      mess.append(i.lower())\n",
        "  else:\n",
        "    mess = message.copy()\n",
        "\n",
        "  if code == 0: #шифрование\n",
        "    for i in range(len(mess)):\n",
        "      buf = 0\n",
        "      for j in range(1, len(alphabet)):\n",
        "        if mess[i] == alphabet[j]: #если текущий символ - буква, то закодировать его числом\n",
        "          code_message.append(j)\n",
        "          buf = 1\n",
        "          break\n",
        "\n",
        "      if buf == 0: #если текущий символ, не буква, то он не меняется\n",
        "        code_message.append(mess[i])\n",
        "        buf = 0\n",
        "\n",
        "  else: #расшифровка\n",
        "    for i in range(len(mess)):\n",
        "      buf = 0;\n",
        "      for j in range(1, len(alphabet)):\n",
        "        if mess[i] == j: #если текущий символ\n",
        "          code_message.append(alphabet[j])\n",
        "          buf = 1\n",
        "          break\n",
        "      if(buf == 0):\n",
        "        code_message.append(mess[i])\n",
        "        buf = 0\n",
        "\n",
        "  return code_message"
      ],
      "metadata": {
        "id": "2CzJv0oHgFJi"
      },
      "execution_count": 243,
      "outputs": []
    },
    {
      "cell_type": "code",
      "source": [
        "def Coding(message, N, key, code = 0):\n",
        "  M = message.copy()\n",
        "  C = []\n",
        "  k = 0\n",
        "  for i in M:\n",
        "    if(type(i) == int or type(i) == float):\n",
        "      C.append((i ** key) % N) #кодирование символа\n",
        "    else:\n",
        "      C.append(i)\n",
        "      \n",
        "  if code: #для расшифровки\n",
        "    C = code_letter(C, 1)\n",
        "\n",
        "  return C"
      ],
      "metadata": {
        "id": "_y40sPVLYGlH"
      },
      "execution_count": 244,
      "outputs": []
    },
    {
      "cell_type": "code",
      "source": [
        "def RSA(message, P, Q, Kb):\n",
        "  phi = (P - 1) * (Q - 1) #вычисление функции Эйлера\n",
        "  N = P * Q\n",
        "\n",
        "  #поиск закрытого ключа, с помощью которого производится расшифровка\n",
        "  #расширенный алгоритм Евклида\n",
        "  u = [0, 1, phi]\n",
        "  v = [1, 0, Kb]\n",
        "  t = []\n",
        "  while(v[2] != 0):\n",
        "    q = u[2] // v[2]\n",
        "    t = [u[0] - (v[0] * q), u[1] - (v[1] * q), u[2] - (v[2] * q)]\n",
        "\n",
        "    u = v.copy()\n",
        "    v = t.copy()\n",
        "\n",
        "  kb = u[0] % phi #закрытый ключ\n",
        "\n",
        "  rezult = []\n",
        "  rezult.append(Coding(code_letter(message), N, Kb)) #шифрование\n",
        "  rezult.append(Coding(rezult[0], N, kb, 1)) #расшифрование зашифрованного сообщения\n",
        "\n",
        "  return rezult"
      ],
      "metadata": {
        "id": "W5GR2vSIWaD8"
      },
      "execution_count": 245,
      "outputs": []
    },
    {
      "cell_type": "code",
      "source": [
        "rezult = RSA(message, P, Q, Kb)\n",
        "print(\"Зашифрованное сообщение:\\n\", rezult[0], code_letter(rezult[0], 1))\n",
        "print(\"Расшифрованное сообщение:\\n\", rezult[1])"
      ],
      "metadata": {
        "colab": {
          "base_uri": "https://localhost:8080/"
        },
        "id": "IpDqrnN0eG2U",
        "outputId": "3af6b45e-c2f0-4ac5-c86f-41a8bda5483d"
      },
      "execution_count": 246,
      "outputs": [
        {
          "output_type": "stream",
          "name": "stdout",
          "text": [
            "Зашифрованное сообщение:\n",
            " [15, 20, 25, 21, 26, ' ', 7, 14, 13, 13, 1, 28, 14, '.'] ['o', 't', 'y', 'u', 'z', ' ', 'g', 'n', 'm', 'm', 'a', 28, 'n', '.']\n",
            "Расшифрованное сообщение:\n",
            " ['i', 'n', 'p', 'u', 't', ' ', 'm', 'e', 's', 's', 'a', 'g', 'e', '.']\n"
          ]
        }
      ]
    }
  ]
}