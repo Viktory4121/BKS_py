{
  "nbformat": 4,
  "nbformat_minor": 0,
  "metadata": {
    "colab": {
      "name": "lab2_bks.ipynb",
      "provenance": [],
      "authorship_tag": "ABX9TyOsksD78TD/+XDlIh3Bm9Cx",
      "include_colab_link": true
    },
    "kernelspec": {
      "name": "python3",
      "display_name": "Python 3"
    },
    "language_info": {
      "name": "python"
    }
  },
  "cells": [
    {
      "cell_type": "markdown",
      "metadata": {
        "id": "view-in-github",
        "colab_type": "text"
      },
      "source": [
        "<a href=\"https://colab.research.google.com/github/Viktory4121/BKS_py/blob/main/lab2_bks.ipynb\" target=\"_parent\"><img src=\"https://colab.research.google.com/assets/colab-badge.svg\" alt=\"Open In Colab\"/></a>"
      ]
    },
    {
      "cell_type": "code",
      "source": [
        "import random"
      ],
      "metadata": {
        "id": "yj10e2KtgtYh"
      },
      "execution_count": 295,
      "outputs": []
    },
    {
      "cell_type": "code",
      "execution_count": 296,
      "metadata": {
        "id": "wFhIjEGcdBLh"
      },
      "outputs": [],
      "source": [
        "#входные данные\n",
        "\n",
        "#входное сообщение:\n",
        "message = \"Import message.\"\n",
        "\n",
        "#ключ из 8 четырёхзначных чисел\n",
        "key = [1123, 350, 6431, 9202, 7265, 3304, 7782, 9955]"
      ]
    },
    {
      "cell_type": "code",
      "source": [
        "def generate_matrix():\n",
        "  table = [] #таблица на 33 строки и 16 столбцов\n",
        "\n",
        "  for i in range(33):\n",
        "    nums = list(range(16)) #создание списка чисел от 0 до 15\n",
        "    random.shuffle(nums) #производится случайная расстановка вышесозданных чисел\n",
        "    new_row = []\n",
        "    for k in nums: #добавление случайно перестановленных чисел в таблицу\n",
        "      new_row.append(k)\n",
        "    \n",
        "    table.append(new_row.copy())\n",
        "    new_row.clear()\n",
        "  \n",
        "  return table"
      ],
      "metadata": {
        "id": "-Yy2ufKwef8C"
      },
      "execution_count": 297,
      "outputs": []
    },
    {
      "cell_type": "code",
      "source": [
        "def add(a, b): #сложение по модулю 2 в 32 степени\n",
        "  return bin((int(a, base=2) + b) % pow(2, 32)).zfill(32)"
      ],
      "metadata": {
        "id": "qZISy9SftADB"
      },
      "execution_count": 298,
      "outputs": []
    },
    {
      "cell_type": "code",
      "source": [
        "def f(num, table):\n",
        "  binary = num[2:].zfill(32)\n",
        "  arr_bin = [binary[i:i + 4] for i in range(0, len(binary), 4)] #двоичная строка из 32 символов делится по 4 символа и формирует массив\n",
        "  new_num = \"\"\n",
        "  \n",
        "  for i in range(len(arr_bin)):\n",
        "    for k in range(len(table)):\n",
        "      if k == int(arr_bin[i], base=2):\n",
        "        new_num += (bin(table[k])[2:].zfill(4))\n",
        "        break\n",
        "  \n",
        "  return new_num.zfill(32)"
      ],
      "metadata": {
        "id": "3Zbd6CbJtjDN"
      },
      "execution_count": 299,
      "outputs": []
    },
    {
      "cell_type": "code",
      "source": [
        "def Coding(left, right, key, table):\n",
        "  T_L = []\n",
        "  T_R = []\n",
        "\n",
        "  T_new_L = \"\"\n",
        "  T_new_R = \"\"\n",
        "\n",
        "  arr_T_L = []\n",
        "  arr_T_R = []\n",
        "\n",
        "  rezult_str = []\n",
        "\n",
        "  T_L.append(left)\n",
        "  T_R.append(right)\n",
        "  for i in range(1, 33): #цикл зашифрования\n",
        "    if i <= 24:\n",
        "      T_L.append(bin(int(f(add(T_L[i-1], key[(i-1)%8]), table[i]), base=2) ^ int(T_R[i-1], base=2))[2:].ljust(32, '0'))\n",
        "      T_R.append(T_L[i-1])\n",
        "    elif i > 24 and i <= 31:\n",
        "      T_L.append(bin(int(f(add(T_L[i-1], key[31-i]), table[i]), base=2) ^ int(T_R[i-1], base=2))[2:].ljust(32, '0'))\n",
        "      T_R.append(T_L[i-1])\n",
        "    elif i == 32:\n",
        "      T_new_L = T_L[i-1]\n",
        "      T_new_R = bin(int(f(add(T_L[i-1], key[0]), table[i]), base=2) ^ int(T_R[i-1], base=2))[2:].ljust(32, '0')\n",
        "\n",
        "  \n",
        "  #разбиение левой и правой части блока на массивы из чисел по 8 символов в двоичной системе:\n",
        "  dop_left = [T_new_L[i:i + 8] for i in range(0, len(T_new_L), 8)]\n",
        "  dop_right = [T_new_R[i:i + 8] for i in range(0, len(T_new_R), 8)]\n",
        "  for k in range(len(dop_left)):\n",
        "    #сбор строки и перевод её в символы через ascii:\n",
        "    rezult_str.append(chr(int(dop_left[k], base=2)))\n",
        "    rezult_str.append(chr(int(dop_right[k], base=2)))\n",
        "    \n",
        "  return rezult_str #массив символов, переведённых через ascii"
      ],
      "metadata": {
        "id": "0R4dfbCWp7wi"
      },
      "execution_count": 300,
      "outputs": []
    },
    {
      "cell_type": "code",
      "source": [
        "def Block_cipher(message, key):\n",
        "  matrix = generate_matrix() #генерация таблицы замен\n",
        "\n",
        "  T_L = []\n",
        "  T_R = []\n",
        "  T_new = []\n",
        "  count_blok = 0 #общее количество блоков, на которое делится сообщение\n",
        "  mess = []\n",
        "  bin_mess = []\n",
        "  str_bin_mess = \"\"\n",
        "\n",
        "  #разделение строки символов на массив\n",
        "  if type(message) == str:\n",
        "    for i in message:\n",
        "      mess.append(i)\n",
        "  else:\n",
        "    mess = message.copy()\n",
        "    \n",
        "  #перевод символов в двоичную систему ascii\n",
        "  k = 0\n",
        "  for i in mess:\n",
        "    bin_mess.append(bin(ord(i))) #перевод каждого символа в двоичный ascii-код\n",
        "    #str.zfill(num) - дополнение нулями слева\n",
        "    str_bin_mess += (bin_mess[k][2:]).zfill(8) #составление одного большого сообщения из двоичных чисел\n",
        "    k += 1\n",
        "\n",
        "  z = 0\n",
        "  while(z < len(str_bin_mess)):\n",
        "    #str.ljust(num, '0') - дополнение нулями справа\n",
        "    T_L.append(str_bin_mess[z:(z+32)]) #32 бита\n",
        "    T_R.append((str_bin_mess[(z+32):(z+64)]).ljust(32, '0')) #32 бита\n",
        "    count_blok += 1 #1 блок содержит 64 бита\n",
        "    z += 64\n",
        "\n",
        "  for i in range(count_blok): #цикл по сформированным блокам\n",
        "    dop_arr = Coding(T_L[i], T_R[i], key, matrix) #зашифровка каждого блока\n",
        "    for i in dop_arr:\n",
        "      T_new.append(i) #сборка зашифрованного сообщения в один массив\n",
        "\n",
        "  return T_new"
      ],
      "metadata": {
        "id": "IhCceus2d2wj"
      },
      "execution_count": 301,
      "outputs": []
    },
    {
      "cell_type": "code",
      "source": [
        "print(\"Зашифрованное сообщение:\\n\", Block_cipher(message, key))"
      ],
      "metadata": {
        "id": "DoEtzVXO4A0T",
        "outputId": "eceee9a4-3914-44f8-8193-2182c33712d2",
        "colab": {
          "base_uri": "https://localhost:8080/"
        }
      },
      "execution_count": 302,
      "outputs": [
        {
          "output_type": "stream",
          "name": "stdout",
          "text": [
            "Зашифрованное сообщение:\n",
            " ['è', '\\x88', 'ý', 'u', 'Í', '8', '*', '1', 'Æ', 'É', '\\x16', '½', '\\x7f', 'Ò', 'ë', '\\x8d']\n"
          ]
        }
      ]
    }
  ]
}