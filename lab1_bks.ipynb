{
  "nbformat": 4,
  "nbformat_minor": 0,
  "metadata": {
    "colab": {
      "name": "lab1_bks.ipynb",
      "provenance": [],
      "collapsed_sections": [],
      "authorship_tag": "ABX9TyPmDemJ82Am/VZ2ezmHphox",
      "include_colab_link": true
    },
    "kernelspec": {
      "name": "python3",
      "display_name": "Python 3"
    },
    "language_info": {
      "name": "python"
    }
  },
  "cells": [
    {
      "cell_type": "markdown",
      "metadata": {
        "id": "view-in-github",
        "colab_type": "text"
      },
      "source": [
        "<a href=\"https://colab.research.google.com/github/Viktory4121/BKS_py/blob/main/lab1_bks.ipynb\" target=\"_parent\"><img src=\"https://colab.research.google.com/assets/colab-badge.svg\" alt=\"Open In Colab\"/></a>"
      ]
    },
    {
      "cell_type": "code",
      "source": [
        "def Synchron_Stream(message, A, B, gamma_0, e):\n",
        "  inc = [] #массив символов открытого текста\n",
        "  tmp = [] #массив символов закрытого текста\n",
        "  gamma = [] #массив ключей для каждого символа сообщения\n",
        "  encode = [] #массив зашифрованных символов\n",
        "  k = 0\n",
        "  \n",
        "  gamma.append(ord(gamma_0)) #добавление 0-го ключа и перевод его в ascii\n",
        "  for i in message:\n",
        "    inc.append(ord(i)) #перевод каждого символа сообщения в ascii\n",
        "    tmp.append(chr(inc[k] ^ gamma[k])) #исключающее или между k-го символа сообщения в ascii и k-ым ключом\n",
        "    gamma.append((A * gamma[k] + B) % e) #поиск (k+1)-го ключа\n",
        "    encode.append(tmp[k]) #массив из защифрованных символов\n",
        "    k += 1\n",
        "    \n",
        "  return encode"
      ],
      "metadata": {
        "id": "MNsayjlcDKvh"
      },
      "execution_count": 14,
      "outputs": []
    },
    {
      "cell_type": "code",
      "source": [
        "def Asynchron_Stream(message, A, B, gamma_0, e, t):\n",
        "  inc = [] #массив символов открытого текста\n",
        "  tmp = [] #массив символов закрытого текста\n",
        "  gamma = [] #массив ключей для каждого символа сообщения\n",
        "  encode = [] #массив зашифрованных символов\n",
        "  k = 0\n",
        "\n",
        "  gamma.append(ord(gamma_0)) #добавление 0-го ключа и перевод его в ascii\n",
        "  for i in message:\n",
        "    inc.append(ord(i)) #перевод каждого символа сообщения в ascii\n",
        "\n",
        "    if(k >= t): #с t-ой итерации производится расчёт промежуточного gamma\n",
        "      gamma_inter = ord(tmp[0]) #промежуточное gamma\n",
        "      j = 1\n",
        "      while(j <= k - 1):\n",
        "        gamma_inter = gamma_inter ^ ord(tmp[j])\n",
        "        j += 1\n",
        "      \n",
        "      gamma_inter = gamma_inter ^ gamma[k] #поиск (k+1)-го ключа\n",
        "      tmp.append(chr(inc[k] ^ gamma_inter)) #исключающее или между k-го символа сообщения в ascii и k-ым ключом\n",
        "      gamma.append(gamma_inter)\n",
        "    else:\n",
        "      tmp.append(chr(inc[k] ^ gamma[k])) #исключающее или между k-го символа сообщения в ascii и k-ым ключом\n",
        "      gamma.append((A * gamma[k] + B) % e) #поиск (k+1)-го ключа\n",
        "    \n",
        "    encode.append(tmp[k]) #массив из защифрованных символов\n",
        "    k += 1\n",
        "\n",
        "  return encode"
      ],
      "metadata": {
        "id": "CLk9CgeWMHhJ"
      },
      "execution_count": 15,
      "outputs": []
    },
    {
      "cell_type": "code",
      "source": [
        "#входные параметры\n",
        "\n",
        "#входное сообщение:\n",
        "message = \"Input message.\"\n",
        "\n",
        "#любые два целых числа:\n",
        "A = 3\n",
        "B = 5\n",
        "\n",
        "#символ, который участвует в расчёте ключа для каждого символа\n",
        "gamma0 = \"z\"\n",
        "\n",
        "#основание, по которому производится расчёт ключей\n",
        "E = 32\n",
        "\n",
        "#с этого символа сообщения расчитывается дополнительное значение для i-го ключа\n",
        "t = 2"
      ],
      "metadata": {
        "id": "bl_ZXkLgEAw7"
      },
      "execution_count": 16,
      "outputs": []
    },
    {
      "cell_type": "code",
      "source": [
        "print(\"Зашифрованное сообщение методом синхронного поточного шифра:\\n\", Synchron_Stream(message, A, B, gamma0, E))\n",
        "print(\"Зашифрованное сообщение методом асинхронного поточного шифра:\\n\", Asynchron_Stream(message, A, B, gamma0, E, t))"
      ],
      "metadata": {
        "colab": {
          "base_uri": "https://localhost:8080/"
        },
        "id": "3QZm1DSoJHpJ",
        "outputId": "5ba510b8-88c1-4b31-faa3-5f06a9356f32"
      },
      "execution_count": 17,
      "outputs": [
        {
          "metadata": {
            "tags": null
          },
          "name": "stdout",
          "output_type": "stream",
          "text": [
            "Зашифрованное сообщение методом синхронного поточного шифра:\n",
            " ['3', '}', 'n', 'j', 'v', '+', 'k', 'r', 'y', 'p', 'o', 'h', 'w', '5']\n",
            "Зашифрованное сообщение методом асинхронного поточного шифра:\n",
            " ['3', '}', ' ', 'K', 'o', 'q', '\\x07', '3', '*', '\\x0f', '7', ',', '\\x1f', 'z']\n"
          ]
        }
      ]
    }
  ]
}